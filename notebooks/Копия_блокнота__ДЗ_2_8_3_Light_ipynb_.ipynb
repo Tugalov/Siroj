{
  "cells": [
    {
      "cell_type": "markdown",
      "metadata": {
        "id": "MH-3kVwvJYeP"
      },
      "source": [
        "# 2.8.3 Объектно-ориентированное программирование как ключевой элемент языка Python"
      ]
    },
    {
      "cell_type": "markdown",
      "metadata": {
        "id": "gMwyKhlQJ1mf"
      },
      "source": [
        "## Задание 1"
      ]
    },
    {
      "cell_type": "markdown",
      "metadata": {
        "id": "Owu684lKKrjJ"
      },
      "source": [
        "**Условие:**\n",
        "\n",
        "Установите все родительские классы для класса ```IOError```.\n"
      ]
    },
    {
      "cell_type": "markdown",
      "metadata": {
        "id": "OCTvo3fHLaaJ"
      },
      "source": [
        "**Решение:**"
      ]
    },
    {
      "cell_type": "code",
      "execution_count": null,
      "metadata": {
        "colab": {
          "base_uri": "https://localhost:8080/"
        },
        "id": "f9_8IGndLeRO",
        "outputId": "194c510b-c2d4-4c80-e786-fded595529fe"
      },
      "outputs": [
        {
          "output_type": "stream",
          "name": "stdout",
          "text": [
            "OSError\n",
            "Exception\n",
            "BaseException\n",
            "object\n"
          ]
        }
      ],
      "source": [
        "import inspect\n",
        "\n",
        "# Получение списка родительских классов для OSError\n",
        "parent_classes = inspect.getmro(OSError)\n",
        "\n",
        "# Вывод списка родительских классов\n",
        "for parent_class in parent_classes:\n",
        "    print(parent_class.__name__)\n"
      ]
    },
    {
      "cell_type": "markdown",
      "metadata": {
        "id": "g5S0h2-wKfGE"
      },
      "source": [
        "## Задание 2"
      ]
    },
    {
      "cell_type": "markdown",
      "metadata": {
        "id": "orX7BUzcPKKf"
      },
      "source": [
        "**Условие:** Для класса ```Manager``` из задания к занятию 2.8.2 установите все родительские классы. Убедитесь, что сам класс ```Manager``` является классом."
      ]
    },
    {
      "cell_type": "markdown",
      "metadata": {
        "id": "ESSLfwqEPKKn"
      },
      "source": [
        "**Решение:**"
      ]
    },
    {
      "cell_type": "code",
      "execution_count": null,
      "metadata": {
        "colab": {
          "base_uri": "https://localhost:8080/"
        },
        "id": "y8HOlaNLPKKq",
        "outputId": "88313448-d790-4f54-fd2b-b47f81e9ef7b"
      },
      "outputs": [
        {
          "output_type": "stream",
          "name": "stdout",
          "text": [
            "Manager\n",
            "Employee\n",
            "Person\n",
            "object\n",
            "True\n"
          ]
        }
      ],
      "source": [
        "class Person:\n",
        "    pass\n",
        "\n",
        "class Employee(Person):\n",
        "    pass\n",
        "\n",
        "class Manager(Employee):\n",
        "    pass\n",
        "\n",
        "# Получение всех родительских классов для Manager\n",
        "parent_classes = Manager.mro()\n",
        "\n",
        "# Вывод всех родительских классов\n",
        "for parent_class in parent_classes:\n",
        "    print(parent_class.__name__)\n",
        "\n",
        "# Проверка, что Manager является классом\n",
        "print(isinstance(Manager, type))\n"
      ]
    }
  ],
  "metadata": {
    "colab": {
      "provenance": []
    },
    "kernelspec": {
      "display_name": "Python 3 (ipykernel)",
      "language": "python",
      "name": "python3"
    },
    "language_info": {
      "codemirror_mode": {
        "name": "ipython",
        "version": 3
      },
      "file_extension": ".py",
      "mimetype": "text/x-python",
      "name": "python",
      "nbconvert_exporter": "python",
      "pygments_lexer": "ipython3",
      "version": "3.11.7"
    }
  },
  "nbformat": 4,
  "nbformat_minor": 0
}