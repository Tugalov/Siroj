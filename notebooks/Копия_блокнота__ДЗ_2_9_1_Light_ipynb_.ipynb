{
  "cells": [
    {
      "cell_type": "markdown",
      "metadata": {
        "id": "MH-3kVwvJYeP"
      },
      "source": [
        "\n",
        "# 2.9.1 Математические вычисления и числа, типы коллекций"
      ]
    },
    {
      "cell_type": "markdown",
      "metadata": {
        "id": "gMwyKhlQJ1mf"
      },
      "source": [
        "## Задание 1"
      ]
    },
    {
      "cell_type": "markdown",
      "metadata": {
        "id": "Owu684lKKrjJ"
      },
      "source": [
        "**Условие:**\n",
        "\n",
        "Напишите функцию, которая случайно переставляет буквы во введенном слове.\n"
      ]
    },
    {
      "cell_type": "markdown",
      "metadata": {
        "id": "oh7yNNtrtDUO"
      },
      "source": [
        "**Решение:**"
      ]
    },
    {
      "cell_type": "code",
      "execution_count": null,
      "metadata": {
        "id": "p-k6Hoy5tDUO",
        "outputId": "0aec12ca-1949-48d0-d3c9-e08f9fbb6e98",
        "colab": {
          "base_uri": "https://localhost:8080/"
        }
      },
      "outputs": [
        {
          "output_type": "stream",
          "name": "stdout",
          "text": [
            "Введите слово для перестановки букв: salom\n",
            "Переставленное слово: losma\n"
          ]
        }
      ],
      "source": [
        "import random\n",
        "\n",
        "def shuffle_letters(word):\n",
        "    letters = list(word)\n",
        "    random.shuffle(letters)\n",
        "    shuffled_word = ''.join(letters)\n",
        "    return shuffled_word\n",
        "\n",
        "input_word = input(\"Введите слово для перестановки букв: \")\n",
        "shuffled_word = shuffle_letters(input_word)\n",
        "print(\"Переставленное слово:\", shuffled_word)"
      ]
    },
    {
      "cell_type": "markdown",
      "metadata": {
        "id": "g5S0h2-wKfGE"
      },
      "source": [
        "## Задание 2"
      ]
    },
    {
      "cell_type": "markdown",
      "metadata": {
        "id": "orX7BUzcPKKf"
      },
      "source": [
        "**Условие:**\n",
        "Используя методы модуля ```math```, найти значения $e^{\\pi}$ и $\\pi^{e}$. В случае, если первое выражение больше,то в ответе укажите 1, иначе - 0.\n",
        "\n",
        "**Формат ответа:**\n",
        "Число (например, ```1```)"
      ]
    },
    {
      "cell_type": "markdown",
      "metadata": {
        "id": "ESSLfwqEPKKn"
      },
      "source": [
        "**Решение:**"
      ]
    },
    {
      "cell_type": "code",
      "execution_count": null,
      "metadata": {
        "colab": {
          "base_uri": "https://localhost:8080/"
        },
        "id": "y8HOlaNLPKKq",
        "outputId": "ba151c67-da5b-4206-d637-9d7198ac72b1"
      },
      "outputs": [
        {
          "output_type": "stream",
          "name": "stdout",
          "text": [
            "1\n"
          ]
        }
      ],
      "source": [
        "import math\n",
        "\n",
        "# Находим значение e^π\n",
        "e_to_pi = math.exp(math.pi)\n",
        "\n",
        "# Находим значение π^e\n",
        "pi_to_e = math.pi ** math.e\n",
        "\n",
        "# Сравниваем значения\n",
        "if e_to_pi > pi_to_e:\n",
        "    result = 1\n",
        "else:\n",
        "    result = 0\n",
        "\n",
        "print(result)"
      ]
    }
  ],
  "metadata": {
    "colab": {
      "provenance": []
    },
    "kernelspec": {
      "display_name": "Python 3 (ipykernel)",
      "language": "python",
      "name": "python3"
    },
    "language_info": {
      "codemirror_mode": {
        "name": "ipython",
        "version": 3
      },
      "file_extension": ".py",
      "mimetype": "text/x-python",
      "name": "python",
      "nbconvert_exporter": "python",
      "pygments_lexer": "ipython3",
      "version": "3.11.7"
    }
  },
  "nbformat": 4,
  "nbformat_minor": 0
}