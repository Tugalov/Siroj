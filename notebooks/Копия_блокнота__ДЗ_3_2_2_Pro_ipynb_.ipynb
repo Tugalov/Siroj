{
  "cells": [
    {
      "cell_type": "markdown",
      "metadata": {
        "id": "MH-3kVwvJYeP"
      },
      "source": [
        "\n",
        "# 3.2.2 Индексирование и вырезание"
      ]
    },
    {
      "cell_type": "markdown",
      "metadata": {
        "id": "gMwyKhlQJ1mf"
      },
      "source": [
        "## Задание 1"
      ]
    },
    {
      "cell_type": "markdown",
      "metadata": {
        "id": "Owu684lKKrjJ"
      },
      "source": [
        "**Условие:**\n",
        "Создайте случайный целочисленный массив ```ndarray``` из ```1000``` элементов, принадлежащих интервалу ```[2,10]```. С помощью булевой индексации найдите все простые элементы в массиве. Найдите сумму полученных элементов. Используйте ```np.random.seed(1000)``` перед генерацией массива для воспроизводимости результатов.\n",
        "\n",
        "**Формат ответа:**\n",
        "Число (например, ```94```)\n",
        "\n"
      ]
    },
    {
      "cell_type": "markdown",
      "metadata": {
        "id": "OCTvo3fHLaaJ"
      },
      "source": [
        "**Решение:**"
      ]
    },
    {
      "cell_type": "code",
      "execution_count": null,
      "metadata": {
        "colab": {
          "base_uri": "https://localhost:8080/"
        },
        "id": "f9_8IGndLeRO",
        "outputId": "eea693f1-15bc-4cbb-85d6-d5746d087363"
      },
      "outputs": [
        {
          "output_type": "execute_result",
          "data": {
            "text/plain": [
              "1798"
            ]
          },
          "metadata": {},
          "execution_count": 1
        }
      ],
      "source": [
        "import numpy as np\n",
        "\n",
        "# Функция для проверки простого числа\n",
        "def is_prime(n):\n",
        "    if n < 2:\n",
        "        return False\n",
        "    for i in range(2, int(n**0.5) + 1):\n",
        "        if n % i == 0:\n",
        "            return False\n",
        "    return True\n",
        "\n",
        "# Устанавливаем seed для воспроизводимости результатов\n",
        "np.random.seed(1000)\n",
        "\n",
        "# Создаем случайный целочисленный массив ndarray из 1000 элементов, принадлежащих интервалу [2,10]\n",
        "arr = np.random.randint(2, 11, 1000)\n",
        "\n",
        "# Используем булеву индексацию для поиска всех простых элементов в массиве\n",
        "prime_elements = arr[np.vectorize(is_prime)(arr)]\n",
        "\n",
        "# Находим сумму полученных элементов\n",
        "sum_of_elements = prime_elements.sum()\n",
        "\n",
        "sum_of_elements\n"
      ]
    },
    {
      "cell_type": "markdown",
      "metadata": {
        "id": "g5S0h2-wKfGE"
      },
      "source": [
        "## Задание 2"
      ]
    },
    {
      "cell_type": "markdown",
      "metadata": {
        "id": "orX7BUzcPKKf"
      },
      "source": [
        "**Условие:**\n",
        "Создайте случайный целочисленный массив ```ndarray``` размера ```(10,10)``` элементов, принадлежащих отрезку ```[0,10]```. Найдите сумму квадратов элементов главной диагонали, не используя циклы. Используйте ```np.random.seed(1000)``` перед генерацией массива для воспроизводимости результатов.\n",
        "\n",
        "**Формат ответа:**\n",
        "Число (например, ```150```)\n",
        "\n"
      ]
    },
    {
      "cell_type": "markdown",
      "metadata": {
        "id": "ESSLfwqEPKKn"
      },
      "source": [
        "**Решение:**"
      ]
    },
    {
      "cell_type": "code",
      "execution_count": null,
      "metadata": {
        "colab": {
          "base_uri": "https://localhost:8080/"
        },
        "id": "y8HOlaNLPKKq",
        "outputId": "545e7957-0f3e-4e5a-a028-65a04280a38e"
      },
      "outputs": [
        {
          "output_type": "execute_result",
          "data": {
            "text/plain": [
              "370"
            ]
          },
          "metadata": {},
          "execution_count": 2
        }
      ],
      "source": [
        "import numpy as np\n",
        "\n",
        "# Устанавливаем seed для воспроизводимости результатов\n",
        "np.random.seed(1000)\n",
        "\n",
        "# Создаем случайный целочисленный массив ndarray размера (10,10) элементов, принадлежащих отрезку [0,10]\n",
        "arr = np.random.randint(0, 11, (10, 10))\n",
        "\n",
        "# Находим элементы главной диагонали\n",
        "diagonal_elements = np.diagonal(arr)\n",
        "\n",
        "# Находим сумму квадратов элементов главной диагонали\n",
        "sum_of_squares = np.sum(diagonal_elements**2)\n",
        "\n",
        "sum_of_squares\n"
      ]
    },
    {
      "cell_type": "markdown",
      "metadata": {
        "id": "tq0Fcrg1KfXQ"
      },
      "source": [
        "## Задание 3"
      ]
    },
    {
      "cell_type": "markdown",
      "metadata": {
        "id": "3xp-jyyHPMIb"
      },
      "source": [
        "**Условие:**\n",
        "Создайте случайный трехмерный целочисленный массив ```ndarray``` размера ```(10,10,10)``` элементов, принадлежащих отрезку ```[0,10]```. Напомним, что подвыборка по первой оси вида ```[0,:,:]``` является матрицей размера ```(10,10)```. Найти поэлементную сумму всех матриц, полученных описанной выше операцией среза при прохождении вдоль всей первой оси (```[0,:,:]```, ```[1,:,:]``` и т.д.). В ответе укажите максимальный элемент в получившейся матрице. Используйте ```np.random.seed(1000)``` перед генерацией массива для воспроизводимости результатов.\n",
        "\n",
        "**Формат ответа:**\n",
        "Число (например, ```50```)\n",
        "\n"
      ]
    },
    {
      "cell_type": "markdown",
      "metadata": {
        "id": "H5ZlBsI2PMIi"
      },
      "source": [
        "**Решение:**"
      ]
    },
    {
      "cell_type": "code",
      "execution_count": null,
      "metadata": {
        "colab": {
          "base_uri": "https://localhost:8080/"
        },
        "id": "6amsYUCoPMIn",
        "outputId": "e5785e84-1dca-4060-bec2-6f2bb65c8715"
      },
      "outputs": [
        {
          "output_type": "execute_result",
          "data": {
            "text/plain": [
              "74"
            ]
          },
          "metadata": {},
          "execution_count": 3
        }
      ],
      "source": [
        "import numpy as np\n",
        "\n",
        "# Устанавливаем seed для воспроизводимости результатов\n",
        "np.random.seed(1000)\n",
        "\n",
        "# Создаем случайный трехмерный целочисленный массив ndarray размера (10,10,10) элементов, принадлежащих отрезку [0,10]\n",
        "arr = np.random.randint(0, 11, (10, 10, 10))\n",
        "\n",
        "# Находим поэлементную сумму всех матриц, полученных описанной выше операцией среза при прохождении вдоль всей первой оси\n",
        "sum_arr = np.sum(arr, axis=0)\n",
        "\n",
        "# Находим максимальный элемент в получившейся матрице\n",
        "max_element = np.max(sum_arr)\n",
        "\n",
        "max_element\n"
      ]
    }
  ],
  "metadata": {
    "colab": {
      "provenance": []
    },
    "kernelspec": {
      "display_name": "Python 3 (ipykernel)",
      "language": "python",
      "name": "python3"
    },
    "language_info": {
      "codemirror_mode": {
        "name": "ipython",
        "version": 3
      },
      "file_extension": ".py",
      "mimetype": "text/x-python",
      "name": "python",
      "nbconvert_exporter": "python",
      "pygments_lexer": "ipython3",
      "version": "3.11.7"
    }
  },
  "nbformat": 4,
  "nbformat_minor": 0
}