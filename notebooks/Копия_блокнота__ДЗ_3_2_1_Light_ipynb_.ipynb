{
  "cells": [
    {
      "cell_type": "markdown",
      "metadata": {
        "id": "MH-3kVwvJYeP"
      },
      "source": [
        "\n",
        "# 3.2.1 Быстрые поэлементные операции над массивами"
      ]
    },
    {
      "cell_type": "markdown",
      "metadata": {
        "id": "gMwyKhlQJ1mf"
      },
      "source": [
        "## Задание 1"
      ]
    },
    {
      "cell_type": "markdown",
      "metadata": {
        "id": "Owu684lKKrjJ"
      },
      "source": [
        "**Условие:**\n",
        "Создайте два произвольных целочисленных массива ```ndarray``` длины ```10``` и найдите поэлементную сумму их значений. Среди полученных значений найдите максимальное с использованием функции ```np.max()```.\n",
        "\n",
        "**Формат ответа:**\n",
        "Число (например, ```150```)\n"
      ]
    },
    {
      "cell_type": "markdown",
      "metadata": {
        "id": "OCTvo3fHLaaJ"
      },
      "source": [
        "**Решение:**"
      ]
    },
    {
      "cell_type": "code",
      "execution_count": null,
      "metadata": {
        "colab": {
          "base_uri": "https://localhost:8080/"
        },
        "id": "f9_8IGndLeRO",
        "outputId": "ba02988c-9be9-4d94-c319-61a19b2a4c92"
      },
      "outputs": [
        {
          "output_type": "stream",
          "name": "stdout",
          "text": [
            "Массив 1: [ 1  9  0 14 23  7 12 39  9 26]\n",
            "Массив 2: [1 3 1 7 8 6 4 7 0 9]\n",
            "Сумма: [ 2 12  1 21 31 13 16 46  9 35]\n",
            "Максимальное значение: 46\n"
          ]
        }
      ],
      "source": [
        "import numpy as np\n",
        "\n",
        "# Создание двух произвольных целочисленных массивов ndarray длины 10\n",
        "array1 = np.random.randint([5, 10, 15, 20, 25, 30, 35, 40, 45, 50])\n",
        "array2 = np.random.randint([2, 4, 6, 8, 10, 12, 14, 16, 18, 20])\n",
        "\n",
        "# Поэлементная сумма значений двух массивов\n",
        "sum_array = np.add(array1, array2)\n",
        "\n",
        "# Нахождение максимального значения среди полученных значений\n",
        "max_value = np.max(sum_array)\n",
        "\n",
        "print(f'Массив 1: {array1}')\n",
        "print(f'Массив 2: {array2}')\n",
        "print(f'Сумма: {sum_array}')\n",
        "print(f'Максимальное значение: {max_value}')\n"
      ]
    },
    {
      "cell_type": "markdown",
      "metadata": {
        "id": "g5S0h2-wKfGE"
      },
      "source": [
        "## Задание 2"
      ]
    },
    {
      "cell_type": "markdown",
      "metadata": {
        "id": "orX7BUzcPKKf"
      },
      "source": [
        "**Условие:**\n",
        "Создайте произвольный массив ```ndarray``` из 10 элементов типа ```float16```. Присутствие ненулевых дробных частей у элементов обязательно. С использованием методов ```numpy``` отделите дробные части элементов и найдите среди них максимальное значение.\n",
        "\n",
        "**Формат ответа:**\n",
        "Число (например, ```0.82```)\n",
        "\n"
      ]
    },
    {
      "cell_type": "markdown",
      "metadata": {
        "id": "ESSLfwqEPKKn"
      },
      "source": [
        "**Решение:**"
      ]
    },
    {
      "cell_type": "code",
      "execution_count": null,
      "metadata": {
        "colab": {
          "base_uri": "https://localhost:8080/"
        },
        "id": "y8HOlaNLPKKq",
        "outputId": "c1f51dae-a5ce-49ec-9d80-5a9b489b6614"
      },
      "outputs": [
        {
          "output_type": "stream",
          "name": "stdout",
          "text": [
            "0.88\n"
          ]
        }
      ],
      "source": [
        "import numpy as np\n",
        "\n",
        "# Создаем массив ndarray из 10 элементов типа float16\n",
        "array = np.random.rand(10).astype(np.float16)\n",
        "\n",
        "# Отделяем дробные части элементов\n",
        "fractional_parts, _ = np.modf(array)\n",
        "\n",
        "# Находим максимальное значение среди дробных частей\n",
        "max_fractional_part = np.max(fractional_parts)\n",
        "\n",
        "print(max_fractional_part)"
      ]
    },
    {
      "cell_type": "markdown",
      "metadata": {
        "id": "tq0Fcrg1KfXQ"
      },
      "source": [
        "## Задание 3"
      ]
    },
    {
      "cell_type": "markdown",
      "metadata": {
        "id": "3xp-jyyHPMIb"
      },
      "source": [
        "**Условие:**\n",
        "Создайте два произвольных целочисленных массива ```ndarray``` длины ```10``` и найдите количество позиций, в которых значения массивов не совпадают при поэлементном сравнивании.\n",
        "\n",
        "**Формат ответа:**\n",
        "Число (например, ```5```)\n",
        "\n",
        "\n"
      ]
    },
    {
      "cell_type": "markdown",
      "metadata": {
        "id": "H5ZlBsI2PMIi"
      },
      "source": [
        "**Решение:**"
      ]
    },
    {
      "cell_type": "code",
      "execution_count": null,
      "metadata": {
        "colab": {
          "base_uri": "https://localhost:8080/"
        },
        "id": "6amsYUCoPMIn",
        "outputId": "a5342084-47cb-401c-f015-9a5ba91d1d48"
      },
      "outputs": [
        {
          "output_type": "stream",
          "name": "stdout",
          "text": [
            "8\n"
          ]
        }
      ],
      "source": [
        "import numpy as np\n",
        "\n",
        "# Создаем два произвольных целочисленных массива ndarray длины 10\n",
        "array1 = np.random.randint(0, 10, 10)\n",
        "array2 = np.random.randint(0, 10, 10)\n",
        "\n",
        "# Сравниваем массивы поэлементно\n",
        "unequal_positions = np.sum(array1 != array2)\n",
        "\n",
        "print(unequal_positions)"
      ]
    }
  ],
  "metadata": {
    "colab": {
      "provenance": []
    },
    "kernelspec": {
      "display_name": "Python 3 (ipykernel)",
      "language": "python",
      "name": "python3"
    },
    "language_info": {
      "codemirror_mode": {
        "name": "ipython",
        "version": 3
      },
      "file_extension": ".py",
      "mimetype": "text/x-python",
      "name": "python",
      "nbconvert_exporter": "python",
      "pygments_lexer": "ipython3",
      "version": "3.11.7"
    }
  },
  "nbformat": 4,
  "nbformat_minor": 0
}