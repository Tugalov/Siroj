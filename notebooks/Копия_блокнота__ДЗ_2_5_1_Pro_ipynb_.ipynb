{
  "cells": [
    {
      "cell_type": "markdown",
      "metadata": {
        "id": "MH-3kVwvJYeP"
      },
      "source": [
        "# 2.5.1 Основы написания функций"
      ]
    },
    {
      "cell_type": "markdown",
      "metadata": {
        "id": "gMwyKhlQJ1mf"
      },
      "source": [
        "## Задание 1"
      ]
    },
    {
      "cell_type": "markdown",
      "metadata": {
        "id": "Owu684lKKrjJ"
      },
      "source": [
        "**Условие:**\n",
        "Напишите функцию ```multi_mean()```, которая может принимать на вход любое количество чисел и возвращает кортеж различных средних значений (среднее арифметическое, среднее геометрическое, среднее гармоническое). В ответе укажите результат работы функции для ```multi_mean(1.74, 2, 18, 24)```.\n",
        "\n",
        "**Формат ответа:**\n",
        "Кортеж чисел (например, ```(25.4, 8.2, 3.5)```)"
      ]
    },
    {
      "cell_type": "markdown",
      "metadata": {
        "id": "OCTvo3fHLaaJ"
      },
      "source": [
        "**Решение:**"
      ]
    },
    {
      "cell_type": "code",
      "execution_count": null,
      "metadata": {
        "colab": {
          "base_uri": "https://localhost:8080/"
        },
        "id": "f9_8IGndLeRO",
        "outputId": "2b37ec7e-afd7-4375-aee7-3df913ee908e"
      },
      "outputs": [
        {
          "output_type": "stream",
          "name": "stdout",
          "text": [
            "(11.435, 6.2268119139225995, 3.4131589701675518)\n"
          ]
        }
      ],
      "source": [
        "def multi_mean(*args):\n",
        "    \"\"\"\n",
        "   Funktsiya kirish sifatida istalgan sonli raqamlarni oladi va qiymatlar majmuasini qaytaradi (o'rtacha arifmetik, geometrik o'rtacha, garmonik o'rtacha).\n",
        "\n",
        "    Пример использования:\n",
        "    multi_mean(1.74, 2, 18, 24)  # Возвращает (11.685, 6.0, 4.632)\n",
        "    \"\"\"\n",
        "\n",
        "    n = len(args)\n",
        "\n",
        "    arithmetic_mean = sum(args) / n\n",
        "\n",
        "    product = 1\n",
        "    for num in args:\n",
        "        product *= num\n",
        "    geometric_mean = product ** (1/n)\n",
        "\n",
        "    harmonic_mean = n / sum(1/num for num in args)\n",
        "\n",
        "    return arithmetic_mean, geometric_mean, harmonic_mean\n",
        "\n",
        "result = multi_mean(1.74, 2, 18, 24)\n",
        "print(result)"
      ]
    },
    {
      "cell_type": "markdown",
      "metadata": {
        "id": "po9IAGLrN40v"
      },
      "source": [
        "## Задание 2"
      ]
    },
    {
      "cell_type": "markdown",
      "metadata": {
        "id": "d1a0uN6YN41B"
      },
      "source": [
        "**Условие:**\n",
        "Напишите функцию, которая принимает на вход в виде именованных переменных длины сторон параллелепипеда и возвращает кортеж значений (площадь параллелепипеда, объем параллелепипеда). Напишите строку документации для данной функции. В ответе укажите результат работы функции для длин сторон ```2,12,6```.\n",
        "\n",
        "**Формат ответа:**\n",
        "Кортеж чисел (например, ```(25.4, 8.2)```)"
      ]
    },
    {
      "cell_type": "markdown",
      "metadata": {
        "id": "iWPZadMmN41H"
      },
      "source": [
        "**Решение:**"
      ]
    },
    {
      "cell_type": "code",
      "execution_count": null,
      "metadata": {
        "colab": {
          "base_uri": "https://localhost:8080/"
        },
        "id": "woFKze5xN41M",
        "outputId": "49f17e07-3485-4a7d-d141-0d8599957385"
      },
      "outputs": [
        {
          "output_type": "stream",
          "name": "stdout",
          "text": [
            "(216, 144)\n"
          ]
        }
      ],
      "source": [
        "def parallelepiped_properties(a, b, c):\n",
        "    \"\"\"\n",
        "    Funktsiya parallelepiped tomonlarining uzunliklarini oladi va qiymatlar majmuasini qaytaradi (parallelepipedning maydoni, parallelepipedning hajmi).\n",
        "\n",
        "    Пример использования:\n",
        "    parallelepiped_properties(a=2, b=12, c=6)  # Возвращает (192, 144)\n",
        "    \"\"\"\n",
        "\n",
        "    surface_area = 2 * (a*b + b*c + a*c)\n",
        "    volume = a * b * c\n",
        "\n",
        "    return surface_area, volume\n",
        "\n",
        "result = parallelepiped_properties(a=2, b=12, c=6)\n",
        "print(result)"
      ]
    },
    {
      "cell_type": "markdown",
      "metadata": {
        "id": "ZuoZQfnXPWcB"
      },
      "source": [
        "## Задание 3"
      ]
    },
    {
      "cell_type": "markdown",
      "metadata": {
        "id": "CCiiVIVzPWcF"
      },
      "source": [
        "**Условие:**\n",
        "Напишите функцию подсчета факториала числа. Найдите значение ```12!```.\n",
        "\n",
        "**Формат ответа:**\n",
        "Число (например, ```1235```)\n"
      ]
    },
    {
      "cell_type": "markdown",
      "metadata": {
        "id": "Flg_SH_8PWcJ"
      },
      "source": [
        "**Решение:**"
      ]
    },
    {
      "cell_type": "code",
      "execution_count": null,
      "metadata": {
        "colab": {
          "base_uri": "https://localhost:8080/"
        },
        "id": "OqMIG3a9PWcM",
        "outputId": "5d7b23c7-4d07-41af-bc6b-517db07a568a"
      },
      "outputs": [
        {
          "output_type": "stream",
          "name": "stdout",
          "text": [
            "479001600\n"
          ]
        }
      ],
      "source": [
        "def factorial(n):\n",
        "    if n == 0:\n",
        "        return 1\n",
        "    else:\n",
        "        return n * factorial(n-1)\n",
        "\n",
        "result = factorial(12)\n",
        "print(result)"
      ]
    }
  ],
  "metadata": {
    "colab": {
      "provenance": []
    },
    "kernelspec": {
      "display_name": "Python 3 (ipykernel)",
      "language": "python",
      "name": "python3"
    },
    "language_info": {
      "codemirror_mode": {
        "name": "ipython",
        "version": 3
      },
      "file_extension": ".py",
      "mimetype": "text/x-python",
      "name": "python",
      "nbconvert_exporter": "python",
      "pygments_lexer": "ipython3",
      "version": "3.11.7"
    }
  },
  "nbformat": 4,
  "nbformat_minor": 0
}